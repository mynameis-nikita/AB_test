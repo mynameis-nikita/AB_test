{
 "cells": [
  {
   "cell_type": "markdown",
   "id": "105698cd-4bde-48a4-90ea-228ab5190e9f",
   "metadata": {},
   "source": [
    "### Использование Линеаризации при подготовке выборок"
   ]
  },
  {
   "cell_type": "code",
   "execution_count": 1,
   "id": "c22bb1d2-1e3d-40e3-a3ab-1f9377166a37",
   "metadata": {},
   "outputs": [],
   "source": [
    "import pandas as pd\n",
    "import pandahouse as ph\n",
    "import seaborn as sns\n",
    "import numpy as np\n",
    "import matplotlib.pyplot as plt\n",
    "from scipy.stats import ttest_ind\n",
    "from scipy import stats\n",
    "\n",
    "import warnings\n",
    "warnings.filterwarnings(\"ignore\")"
   ]
  },
  {
   "cell_type": "code",
   "execution_count": 2,
   "id": "8a34140c-97b3-46e8-b944-5e4ccbafb12e",
   "metadata": {},
   "outputs": [],
   "source": [
    "connection = {'host': 'https://clickhouse.lab.karpov.courses',\n",
    "                      'database':'simulator_20230220',\n",
    "                      'user':os.environ.get(\"DB_LOGIN\"),\n",
    "                      'password':os.environ.get(\"DB_PASS\")\n",
    "             }"
   ]
  },
  {
   "cell_type": "code",
   "execution_count": 3,
   "id": "56c223bb-53df-46c0-9794-023e0d3d673c",
   "metadata": {},
   "outputs": [],
   "source": [
    "query = '''\n",
    "SELECT user_id, exp_group,\n",
    "    sum(action = 'like') as likes,\n",
    "    sum(action = 'view') as views,\n",
    "    likes/views as ctr\n",
    "FROM {db}.feed_actions \n",
    "WHERE toDate(time) between '2023-01-31' and '2023-02-06' \n",
    "AND exp_group in (0,1,2,3)\n",
    "GROUP BY user_id, exp_group\n",
    "'''\n",
    "\n",
    "df = ph.read_clickhouse(query, connection=connection)"
   ]
  },
  {
   "cell_type": "markdown",
   "id": "2ee61e48-1e2c-45da-ab33-57f412502722",
   "metadata": {},
   "source": [
    "#### Группы 0 и 3. Сравнение результатов t-test на метриках CTR и Linearized likes "
   ]
  },
  {
   "cell_type": "code",
   "execution_count": 4,
   "id": "6b18c7ad-a273-4e26-8f39-e488a3b3f4e3",
   "metadata": {},
   "outputs": [
    {
     "data": {
      "text/plain": [
       "Ttest_indResult(statistic=-13.896870721904069, pvalue=1.055849414662529e-43)"
      ]
     },
     "execution_count": 4,
     "metadata": {},
     "output_type": "execute_result"
    }
   ],
   "source": [
    "# Сначала ttest на CTR без изменений\n",
    "\n",
    "stats.ttest_ind(df[df.exp_group == 0].ctr, \n",
    "                df[df.exp_group == 3].ctr, \n",
    "                equal_var = False)\n"
   ]
  },
  {
   "cell_type": "code",
   "execution_count": 5,
   "id": "d2237b4d-ced6-45ad-9588-742a040f720c",
   "metadata": {},
   "outputs": [
    {
     "data": {
      "text/plain": [
       "Ttest_indResult(statistic=-15.214995460903827, pvalue=5.4914249479690016e-52)"
      ]
     },
     "execution_count": 5,
     "metadata": {},
     "output_type": "execute_result"
    }
   ],
   "source": [
    "# Общегрупповой CTR (Контрольная группа 0)\n",
    "ctr_control = df[df.exp_group == 0].likes.sum() / df[df.exp_group == 0].views.sum()\n",
    "\n",
    "\n",
    "# Линеаризованные лайки\n",
    "df['linearized_likes_03'] = df.likes - ctr_control * df.views\n",
    "\n",
    "\n",
    "# T-test на линеаризованных лайках \n",
    "stats.ttest_ind(df[df.exp_group == 0].linearized_likes_03, \n",
    "                df[df.exp_group == 3].linearized_likes_03, \n",
    "                equal_var=False)\n"
   ]
  },
  {
   "cell_type": "code",
   "execution_count": 6,
   "id": "699d2a28-6009-496c-a103-7f0c00ab294b",
   "metadata": {},
   "outputs": [
    {
     "data": {
      "image/png": "[encoded data removed]",
      "text/plain": [
       "<Figure size 1080x360 with 2 Axes>"
      ]
     },
     "metadata": {
      "needs_background": "light"
     },
     "output_type": "display_data"
    }
   ],
   "source": [
    "plt.figure(figsize= (15, 5))\n",
    "\n",
    "plt.subplot(1,2,1)\n",
    "sns.histplot(df[df.exp_group == 0].ctr, color = 'black')\n",
    "sns.histplot(df[df.exp_group == 3].ctr, color = 'red')\n",
    "\n",
    "plt.subplot(1,2,2)\n",
    "sns.histplot(df[df.exp_group == 0].linearized_likes_03, color = 'black')\n",
    "sns.histplot(df[df.exp_group == 3].linearized_likes_03, color = 'red');"
   ]
  },
  {
   "cell_type": "markdown",
   "id": "32897b7d-6e48-45fd-a2c7-4a9b87266665",
   "metadata": {},
   "source": [
    "__Вывод по тесту на группах 0 и 3.__ </BR></BR>\n",
    "T-Тест на метрике linearized_likes показывает лучшую чувствительность. </br>\n",
    "p-value на этой метрике в 5 * 10^9 раз меньше, чем на CTR."
   ]
  },
  {
   "cell_type": "markdown",
   "id": "08c26abd-8bb0-44b2-a636-725b99ab036a",
   "metadata": {
    "tags": []
   },
   "source": [
    "#### Группы 1 и 2. Сравнение результатов t-test на метриках CTR и Linearized likes "
   ]
  },
  {
   "cell_type": "code",
   "execution_count": 7,
   "id": "5a5d11cf-132a-4a64-878f-e56a1680d51d",
   "metadata": {},
   "outputs": [
    {
     "name": "stdout",
     "output_type": "stream",
     "text": [
      "Ttest_indResult(statistic=0.7094392041270485, pvalue=0.4780623130874935)\n",
      "MannwhitneyuResult(statistic=56601260.5, pvalue=6.0376484617779035e-56)\n"
     ]
    }
   ],
   "source": [
    "# Сначала тесты на CTR без изменений\n",
    "\n",
    "# Требование к распределению для проведения ttest не соблюдено, \n",
    "# однако интересно, как линеаризация скажется на результатах \n",
    "print (stats.ttest_ind(df[df.exp_group == 1].ctr, \n",
    "                       df[df.exp_group == 2].ctr, \n",
    "                       equal_var = False))\n",
    "\n",
    "print (stats.mannwhitneyu(df[df.exp_group == 1].ctr, \n",
    "                          df[df.exp_group == 2].ctr))"
   ]
  },
  {
   "cell_type": "code",
   "execution_count": 8,
   "id": "242dbd03-a538-466f-8a10-ab7fbe0fea9b",
   "metadata": {},
   "outputs": [
    {
     "name": "stdout",
     "output_type": "stream",
     "text": [
      "Ttest_indResult(statistic=6.122579994775974, pvalue=9.439432187037644e-10)\n",
      "MannwhitneyuResult(statistic=54534537.0, pvalue=9.404319579641738e-27)\n"
     ]
    }
   ],
   "source": [
    "# Общегрупповой CTR (Контрольная группа 1)\n",
    "ctr_control = df[df.exp_group == 1].likes.sum() / df[df.exp_group == 1].views.sum()\n",
    "\n",
    "\n",
    "# Линеаризованные лайки\n",
    "df['linearized_likes_12'] = df.likes - ctr_control * df.views\n",
    "\n",
    "\n",
    "# T-test на линеаризованных лайках \n",
    "stats.ttest_ind(df[df.exp_group == 1].linearized_likes_12, \n",
    "                df[df.exp_group == 2].linearized_likes_12, \n",
    "                equal_var=False)\n",
    "\n",
    "print (stats.ttest_ind(df[df.exp_group == 1].linearized_likes_12, \n",
    "                       df[df.exp_group == 2].linearized_likes_12, \n",
    "                       equal_var = False))\n",
    "\n",
    "print (stats.mannwhitneyu(df[df.exp_group == 1].linearized_likes_12, \n",
    "                          df[df.exp_group == 2].linearized_likes_12))\n"
   ]
  },
  {
   "cell_type": "code",
   "execution_count": 9,
   "id": "582e9501-c626-4474-901d-92233d715770",
   "metadata": {},
   "outputs": [
    {
     "data": {
      "image/png": "[encoded data removed]",
      "text/plain": [
       "<Figure size 1080x360 with 2 Axes>"
      ]
     },
     "metadata": {
      "needs_background": "light"
     },
     "output_type": "display_data"
    }
   ],
   "source": [
    "# Для наглядности построю графики распределений CTR и Lin_likes\n",
    "\n",
    "plt.figure(figsize= (15, 5))\n",
    "\n",
    "plt.subplot(1,2,1)\n",
    "sns.histplot(df[df.exp_group == 1].ctr, color = 'black', bins=50 )\n",
    "sns.histplot(df[df.exp_group == 2].ctr, color = 'red', bins=50)\n",
    "\n",
    "plt.subplot(1,2,2)\n",
    "sns.histplot(df[df.exp_group == 1].linearized_likes_12, color = 'black', bins=50)\n",
    "sns.histplot(df[df.exp_group == 2].linearized_likes_12, color = 'red', bins=50);"
   ]
  },
  {
   "cell_type": "markdown",
   "id": "a7205001-f7f8-49fd-9db3-fd881df28567",
   "metadata": {},
   "source": [
    "__Вывод по тесту на группах 1 и 2.__ </BR></BR>\n",
    "\n",
    "T-Тест на метрике linearized_likes показывает лучшую чувствительность. </br>\n",
    "Однако, в данном примере, правильнее смотреть на pvalue теста Манна -Уитни. И он показал меньшую чувствительность\n"
   ]
  },
  {
   "cell_type": "code",
   "execution_count": null,
   "id": "b7ac4586-37ae-4b70-b5f3-65627ebc7471",
   "metadata": {},
   "outputs": [],
   "source": []
  }
 ],
 "metadata": {
  "kernelspec": {
   "display_name": "Python 3 (ipykernel)",
   "language": "python",
   "name": "python3"
  },
  "language_info": {
   "codemirror_mode": {
    "name": "ipython",
    "version": 3
   },
   "file_extension": ".py",
   "mimetype": "text/x-python",
   "name": "python",
   "nbconvert_exporter": "python",
   "pygments_lexer": "ipython3",
   "version": "3.9.13"
  }
 },
 "nbformat": 4,
 "nbformat_minor": 5
}
