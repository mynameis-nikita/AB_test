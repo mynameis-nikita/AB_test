{
 "cells": [
  {
   "cell_type": "markdown",
   "id": "a6b33940-d67d-4f7c-b641-23c74a9143a4",
   "metadata": {},
   "source": [
    "### АА - тест на пользователях из 2 и 3 группы с 2023-01-24 по 2023-01-24. \n",
    "### Необходимо удостовериться, что значимых различий между группами нет"
   ]
  },
  {
   "cell_type": "code",
   "execution_count": 3,
   "id": "9cc31e34-d4bf-427c-91ff-20d374e1e251",
   "metadata": {
    "tags": []
   },
   "outputs": [],
   "source": [
    "import os\n",
    "import pandas as pd\n",
    "import pandahouse as ph\n",
    "import seaborn as sns\n",
    "import matplotlib.pyplot as plt\n",
    "from scipy.stats import ttest_ind\n",
    "from scipy import stats\n",
    "\n",
    "\n",
    "import warnings\n",
    "warnings.filterwarnings(\"ignore\")"
   ]
  },
  {
   "cell_type": "code",
   "execution_count": 11,
   "id": "32a55652-27f1-4973-bf86-53594bb8157e",
   "metadata": {
    "tags": []
   },
   "outputs": [],
   "source": [
    "# Данные для подключения к БД кликхаус. Логин и пароль спрятаны в окружении репозитория git\n",
    "\n",
    "connection = {'host': 'https://clickhouse.lab.karpov.courses',\n",
    "                      'database':'simulator_20230220',\n",
    "                      'user':os.environ.get(\"DB_LOGIN\"),\n",
    "                      'password':os.environ.get(\"DB_PASS\")\n",
    "             }"
   ]
  },
  {
   "cell_type": "code",
   "execution_count": 225,
   "id": "3560bb17-c57d-44be-b046-8621f3ff3128",
   "metadata": {
    "tags": []
   },
   "outputs": [],
   "source": [
    "# Для проведения АА теста выгружаю из clickhouse пользователей из 2 и 3 группы с 2023-01-24 по 2023-01-24.\n",
    "\n",
    "query = '''\n",
    "SELECT user_id, exp_group, toDate(time) as date,\n",
    "    sum(action = 'like') as likes,\n",
    "    sum(action = 'view') as views,\n",
    "    likes/views as ctr\n",
    "FROM {db}.feed_actions \n",
    "WHERE toDate(time) between '2023-01-24' and '2023-01-30' \n",
    "AND exp_group in (2, 3)\n",
    "GROUP BY user_id, exp_group, date\n",
    "'''\n",
    "\n",
    "df = ph.read_clickhouse(query, connection=connection)"
   ]
  },
  {
   "cell_type": "markdown",
   "id": "d0fd85c9-6396-496c-be27-b457811858c1",
   "metadata": {
    "tags": []
   },
   "source": [
    "Убедимся, что группы поделены примерно в равных пропорциях"
   ]
  },
  {
   "cell_type": "code",
   "execution_count": 58,
   "id": "c0a7f21c-1752-47de-8837-79ca87041c27",
   "metadata": {
    "tags": []
   },
   "outputs": [
    {
     "name": "stdout",
     "output_type": "stream",
     "text": [
      "Размер группы 2: 49.5% \n",
      "Размер группы 3: 50.5%\n"
     ]
    }
   ],
   "source": [
    "print ('Размер группы 2: {}% \\nРазмер группы 3: {}%'\n",
    "       .format(round(df.groupby('exp_group').user_id.count()[2] / len(df), 3) *100, \n",
    "               round(df.groupby('exp_group').user_id.count()[3] / len(df), 3) *100))\n",
    "       "
   ]
  },
  {
   "cell_type": "markdown",
   "id": "747c0729-b549-4782-809e-c46a8c86a220",
   "metadata": {},
   "source": [
    "Взглянем на распределение CTR в группах:"
   ]
  },
  {
   "cell_type": "code",
   "execution_count": 224,
   "id": "9e72711d-899d-49c7-84ef-f3272999cd76",
   "metadata": {
    "tags": []
   },
   "outputs": [
    {
     "data": {
      "image/png": "[encoded data removed]",
      "text/plain": [
       "<Figure size 1080x360 with 1 Axes>"
      ]
     },
     "metadata": {
      "needs_background": "light"
     },
     "output_type": "display_data"
    }
   ],
   "source": [
    "plt.figure(figsize=(15,5))\n",
    "sns.histplot(df, x='ctr', hue= 'exp_group', palette=['red', 'blue'], legend=True);"
   ]
  },
  {
   "cell_type": "code",
   "execution_count": 268,
   "id": "20ff2d73-6a54-4149-816c-b6ef83ba555e",
   "metadata": {},
   "outputs": [],
   "source": [
    "# Записываю результаты 10000 испытаний на выборках по 500 юзеров в список\n",
    "\n",
    "p_values = []\n",
    "for i in range (10000):   \n",
    "    stat, p_v = ttest_ind(np.random.choice(df[df['exp_group'] == 2].ctr, 500, replace=False),\n",
    "                          np.random.choice(df[df['exp_group'] == 3].ctr, 500, replace=False))\n",
    "    p_values.append(p_v)"
   ]
  },
  {
   "cell_type": "code",
   "execution_count": 290,
   "id": "57c81ecb-748f-4b80-a6d8-c390cf67c598",
   "metadata": {},
   "outputs": [],
   "source": [
    "# Для удобства данные заношу в датафрейм\n",
    "\n",
    "res = pd.DataFrame(p_values, columns=['p_values'])"
   ]
  },
  {
   "cell_type": "markdown",
   "id": "05e6c16c-d612-480f-8852-6d3d32cdaabf",
   "metadata": {},
   "source": [
    "### 1. Построить гистограмму распределения получившихся 10000 p-values."
   ]
  },
  {
   "cell_type": "code",
   "execution_count": 294,
   "id": "7f02e484-614f-40c4-aa20-77ab833c355e",
   "metadata": {},
   "outputs": [
    {
     "data": {
      "image/png": "[encoded data removed]",
      "text/plain": [
       "<Figure size 432x288 with 1 Axes>"
      ]
     },
     "metadata": {
      "needs_background": "light"
     },
     "output_type": "display_data"
    }
   ],
   "source": [
    "sns.histplot(res.p_values);"
   ]
  },
  {
   "cell_type": "markdown",
   "id": "eebbe7dc-4463-4d46-8078-159c714aba07",
   "metadata": {},
   "source": [
    "### 2. Посчитать, какой процент p values оказался меньше либо равен 0.05"
   ]
  },
  {
   "cell_type": "code",
   "execution_count": 295,
   "id": "400997a8-08e5-4c97-bfea-ecd9de6f503e",
   "metadata": {},
   "outputs": [
    {
     "name": "stdout",
     "output_type": "stream",
     "text": [
      "Доля pvalue <= 0.05: 4.75%\n"
     ]
    }
   ],
   "source": [
    "print (f'Доля pvalue <= 0.05: {res[res.p_values <= 0.05].shape[0] *100.0 / len(res)}%')"
   ]
  },
  {
   "cell_type": "markdown",
   "id": "73b1c604-a223-4eaa-ae55-45d6d182bf4a",
   "metadata": {},
   "source": [
    "### 3. Вывод по проведенному АА-тесту, корректно ли работает наша система сплитования."
   ]
  },
  {
   "cell_type": "markdown",
   "id": "cad9fb76-68fb-4973-a430-7c92a1047aed",
   "metadata": {},
   "source": [
    "Примерно 5% ttest показали на выборках статистически значимые различия (если alpha = 0.05) в двух группах. Сплиттование работает корректно."
   ]
  },
  {
   "cell_type": "code",
   "execution_count": null,
   "id": "7a962ece-e197-4995-89d2-0eb1d251bf5c",
   "metadata": {},
   "outputs": [],
   "source": []
  }
 ],
 "metadata": {
  "kernelspec": {
   "display_name": "Python 3 (ipykernel)",
   "language": "python",
   "name": "python3"
  },
  "language_info": {
   "codemirror_mode": {
    "name": "ipython",
    "version": 3
   },
   "file_extension": ".py",
   "mimetype": "text/x-python",
   "name": "python",
   "nbconvert_exporter": "python",
   "pygments_lexer": "ipython3",
   "version": "3.9.13"
  }
 },
 "nbformat": 4,
 "nbformat_minor": 5
}
